{
 "cells": [
  {
   "cell_type": "code",
   "execution_count": 28,
   "id": "a4d8e058",
   "metadata": {},
   "outputs": [],
   "source": [
    "import matplotlib.pyplot as plt\n",
    "import random\n",
    "import math\n",
    "import numpy as np\n",
    "from math import sqrt\n",
    "# fonctions venant du tp précédent\n",
    "def mean(dat):\n",
    "    somme=0\n",
    "    nbVal=0\n",
    "    for elt in dat:\n",
    "        somme+=elt\n",
    "        nbVal+=1\n",
    "    return somme/nbVal\n",
    "\n",
    "def quantile(dat,p):\n",
    "    dat=dat.copy()\n",
    "    dat=sorted(dat)\n",
    "    N=len(dat)\n",
    "    j=int(N*p)\n",
    "    if j==N*p:\n",
    "        quantile=(dat[j-1]+dat[j])/2\n",
    "    else:\n",
    "        quantile=dat[int(j)]\n",
    "    return quantile\n",
    "\n",
    "def median(dat):\n",
    "    return quantile(dat,0.5)\n",
    "\n",
    "def stdev(dat):\n",
    "    listeEcarts=[]\n",
    "    moyenne=mean(dat)\n",
    "    for elt in dat:\n",
    "        listeEcarts.append(pow(elt-moyenne,2))\n",
    "    return sqrt(mean(listeEcarts))\n",
    "\n",
    "def cofvar(dat):\n",
    "    return stdev(dat)/mean(dat)\n",
    "\n",
    "def valrange(dat):\n",
    "    return max(dat)-min(dat)\n",
    "\n",
    "def iquarange(dat):\n",
    "    return quantile(dat,0.75)-quantile(dat,0.25)\n",
    "\n",
    "def scale(data,center=False,scale=False):\n",
    "    moy=mean(data)\n",
    "    e_t=stdev(data)\n",
    "    if center:\n",
    "        res=[]\n",
    "        for elt in data:\n",
    "            res.append(elt-moy)\n",
    "        data=res\n",
    "    if scale:\n",
    "        print(i)\n",
    "        res=[]\n",
    "        for elt in data:\n",
    "            res.append(elt/e_t)\n",
    "        data=res\n",
    "    return data\n",
    "def to_ranks(data:list)->list:\n",
    "    sorted_data=sorted(data)\n",
    "    res=[]\n",
    "    for elt in data:\n",
    "        i=sorted_data.index(elt)+1\n",
    "        \n",
    "        res.append(i)   \n",
    "    return res"
   ]
  },
  {
   "cell_type": "code",
   "execution_count": 2,
   "id": "4275536a",
   "metadata": {},
   "outputs": [
    {
     "data": {
      "image/png": "[encoded data removed]",
      "text/plain": [
       "<Figure size 432x288 with 1 Axes>"
      ]
     },
     "metadata": {
      "needs_background": "light"
     },
     "output_type": "display_data"
    }
   ],
   "source": [
    "# Données\n",
    "data_v1 = [3.12, 8.01, 4.99, 2.3, 5.39]\n",
    "data_v2 = [12.5, 1.08, 7.44, 4.56, 9.65]\n",
    "# Tracé du diagramme de dispersion\n",
    "plt.scatter(data_v1, data_v2)\n",
    "# Paramètres graphiques\n",
    "plt.title('Diagramme de dispersion')   # Titre du graphique\n",
    "plt.xlabel('V1')                       # Label du premier axe\n",
    "plt.ylabel('V2')                       # Label du second\n",
    "plt.axis('equal')                      # Ratio d'échelle des deux axes à 1\n",
    "plt.grid()                             # Ajout d'une grille\n",
    "# Affichage\n",
    "plt.show()"
   ]
  },
  {
   "cell_type": "code",
   "execution_count": 3,
   "id": "93456de4",
   "metadata": {},
   "outputs": [
    {
     "data": {
      "image/png": "[encoded data removed]",
      "text/plain": [
       "<Figure size 432x288 with 1 Axes>"
      ]
     },
     "metadata": {
      "needs_background": "light"
     },
     "output_type": "display_data"
    },
    {
     "name": "stdout",
     "output_type": "stream",
     "text": [
      "Le lien entre les deux jeux de données semble être : V2=2V1\n"
     ]
    }
   ],
   "source": [
    "# DATASET 1\n",
    "data1_v1 = [-0.98, 1.81, 1.07, 1.8, 1.79, -0.56, 1.64, -0.03, 0.11, -0.85, -1.53, -1.47, 1.93, -0.35, -1.15, -0.84, 0.12, -0.35, -0.55, 0.84, -1.55, 1.99, 0.31, -1.0, -1.34, -0.43, 1.67, 0.07, -0.28, -0.33, 0.96, -0.93, -1.67, -0.3, -0.56, 1.95, 1.25, -0.57, 0.58, -1.87, -0.41, 0.08, 1.65, -0.02, -1.84, -0.15, -0.62, 1.14, -1.11, -0.16]\n",
    "data1_v2 = [-3.21, 2.88, 2.34, 3.83, 3.35, -1.13, 2.84, -1.52, 1.49, -1.61, -3.91, -2.82, 4.38, -0.46, -1.05, -1.23, 1.2, -0.25, -1.62, 0.8, -3.76, 4.13, -0.7, -3.17, -3.59, -0.4, 2.31, 0.12, -0.65, -0.98, 1.84, -2.83, -4.32, -1.6, -1.27, 4.18, 3.12, -0.94, 3.54, -3.66, -0.43, 0.23, 3.36, -1.6, -3.48, 0.58, -0.51, 2.42, -2.1, -0.86]\n",
    "\n",
    "plt.scatter(data1_v1, data1_v2)\n",
    "# Paramètres graphiques\n",
    "plt.title('Diagramme de dispersion du dataset 1')   # Titre du graphique\n",
    "plt.xlabel('V1')                       # Label du premier axe\n",
    "plt.ylabel('V2')                       # Label du second\n",
    "plt.axis('equal')                      # Ratio d'échelle des deux axes à 1\n",
    "plt.grid()                             # Ajout d'une grille\n",
    "# Affichage\n",
    "plt.show()\n",
    "print(\"Le lien entre les deux jeux de données semble être : V2=2V1\")"
   ]
  },
  {
   "cell_type": "code",
   "execution_count": 4,
   "id": "a087913a",
   "metadata": {},
   "outputs": [
    {
     "data": {
      "image/png": "[encoded data removed]",
      "text/plain": [
       "<Figure size 432x288 with 1 Axes>"
      ]
     },
     "metadata": {
      "needs_background": "light"
     },
     "output_type": "display_data"
    },
    {
     "name": "stdout",
     "output_type": "stream",
     "text": [
      "On peut constater l'apparition d'un rectangle...\n"
     ]
    }
   ],
   "source": [
    "# DATASET 2\n",
    "data2_v1 = [0.79, -1.07, 1.87, 1.06, 0.23, 0.93, 0.76, 0.93, 1.37, 0.65, 0.02, -0.97, 0.95, -1.87, 1.9, 1.68, 1.38, 1.06, -1.39, 0.86, -0.25, -1.63, -1.46, 0.53, -1.47, -1.33, -1.46, -1.65, 0.64, 1.54, 0.21, 0.21, -0.92, -0.44, -0.58, -0.18, 1.53, -1.97, -0.22, -1.96, -1.13, -0.48, 0.87, 0.05, -0.83, 0.78, 1.06, -1.09, 1.71, 1.44]\n",
    "data2_v2 = [-0.28, 1.41, 1.26, 0.79, -0.75, -1.51, -1.26, 1.27, -1.32, 0.08, 1.42, -1.09, 1.47, -1.16, -0.96, -1.34, 0.34, 0.83, -1.61, -0.86, 1.34, 1.57, -1.0, 0.5, -1.96, 1.45, -1.21, 0.19, -1.09, -1.44, 0.52, 0.21, 0.97, -1.96, -1.03, 1.96, 0.88, 1.98, -0.37, 0.98, -0.28, 1.48, -0.04, -1.98, -1.76, -1.72, 1.27, 0.27, 1.76, -1.64]\n",
    "\n",
    "# Tracé du diagramme de dispersion\n",
    "plt.scatter(data2_v1, data2_v2)\n",
    "# Paramètres graphiques\n",
    "plt.title('Diagramme de dispersion du dataset 2')   # Titre du graphique\n",
    "plt.xlabel('V1')                       # Label du premier axe\n",
    "plt.ylabel('V2')                       # Label du second\n",
    "plt.axis('equal')                      # Ratio d'échelle des deux axes à 1\n",
    "plt.grid()                             # Ajout d'une grille\n",
    "# Affichage\n",
    "plt.show()\n",
    "print(\"On peut constater l'apparition d'un rectangle...\")"
   ]
  },
  {
   "cell_type": "code",
   "execution_count": 5,
   "id": "26fc3182",
   "metadata": {},
   "outputs": [
    {
     "data": {
      "image/png": "[encoded data removed]",
      "text/plain": [
       "<Figure size 432x288 with 1 Axes>"
      ]
     },
     "metadata": {
      "needs_background": "light"
     },
     "output_type": "display_data"
    },
    {
     "name": "stdout",
     "output_type": "stream",
     "text": [
      "Nous avons l'apparition d'une courbe ressamblant à x^2\n"
     ]
    }
   ],
   "source": [
    "# DATASET 3\n",
    "data3_v1 = [-1.42, -1.06, -0.2, 0.68, 1.34, -0.93, -1.44, -1.03, 0.33, 0.26, 1.05, -0.09, -0.7, 1.6, -1.67, 0.09, -0.77, 1.92, 0.09, 0.43, 0.4, -1.7, -0.51, -1.53, -1.54, 1.43, 0.31, -0.99, -1.35, -1.62, 1.66, -0.33, -0.89, -0.06, -0.72, 1.21, 1.77, 1.23, 1.03, 0.77, 0.07, -1.52, -1.82, 0.71, -0.66, 1.73, 0.73, -0.26, -1.65, -0.53]\n",
    "data3_v2 = [2.21, 1.08, 0.3, 0.58, 1.89, 0.75, 2.25, 1.33, 0.08, -0.12, 1.22, -0.02, 0.4, 2.5, 2.74, -0.23, 0.45, 3.95, -0.15, 0.24, -0.15, 2.8, 0.03, 2.55, 2.37, 2.02, -0.05, 1.04, 2.0, 2.79, 2.98, 0.08, 0.86, -0.1, 0.58, 1.46, 3.19, 1.54, 1.06, 0.68, 0.09, 2.37, 3.4, 0.51, 0.43, 3.0, 0.37, 0.03, 2.62, 0.3]\n",
    "\n",
    "# Tracé du diagramme de dispersion\n",
    "plt.scatter(data3_v1, data3_v2)\n",
    "# Paramètres graphiques\n",
    "plt.title('Diagramme de dispersion du dataset 3')   # Titre du graphique\n",
    "plt.xlabel('V1')                       # Label du premier axe\n",
    "plt.ylabel('V2')                       # Label du second\n",
    "plt.axis('equal')                      # Ratio d'échelle des deux axes à 1\n",
    "plt.grid()                             # Ajout d'une grille\n",
    "# Affichage\n",
    "plt.show()\n",
    "print(\"Nous avons l'apparition d'une courbe ressamblant à x^2\")"
   ]
  },
  {
   "cell_type": "code",
   "execution_count": 6,
   "id": "e928e2d6",
   "metadata": {},
   "outputs": [
    {
     "data": {
      "image/png": "[encoded data removed]",
      "text/plain": [
       "<Figure size 432x288 with 1 Axes>"
      ]
     },
     "metadata": {
      "needs_background": "light"
     },
     "output_type": "display_data"
    },
    {
     "name": "stdout",
     "output_type": "stream",
     "text": [
      "Rien de particulier pour celui-ci\n"
     ]
    }
   ],
   "source": [
    "# DATASET 4\n",
    "data4_v1 = [1.1203136497073731, 1.7373078036934886, 2.368335223083779, 0.8730512267529372, -0.6624678143623997, 0.7428506107657022, -4.079893829055984, 3.5493465945904843, 2.4991307541783034, 1.9263584960720843]\n",
    "data4_v2 = [5.758060834411365, 4.425462343941218, 0.043567920636212065, 4.714385829386762, 2.175717240926681, 1.463516586734358, 3.5715008567734836, 0.6925053961721359, 1.2313379873122037, 4.152430119150692]\n",
    "\n",
    "# Tracé du diagramme de dispersion\n",
    "plt.scatter(data4_v1, data4_v2)\n",
    "# Paramètres graphiques\n",
    "plt.title('Diagramme de dispersion du dataset 4')   # Titre du graphique\n",
    "plt.xlabel('V1')                       # Label du premier axe\n",
    "plt.ylabel('V2')                       # Label du second\n",
    "plt.axis('equal')                      # Ratio d'échelle des deux axes à 1\n",
    "plt.grid()                             # Ajout d'une grille\n",
    "# Affichage\n",
    "plt.show()\n",
    "print(\"Rien de particulier pour celui-ci\")"
   ]
  },
  {
   "cell_type": "code",
   "execution_count": 7,
   "id": "871326d1",
   "metadata": {},
   "outputs": [
    {
     "data": {
      "image/png": "[encoded data removed]",
      "text/plain": [
       "<Figure size 432x288 with 1 Axes>"
      ]
     },
     "metadata": {
      "needs_background": "light"
     },
     "output_type": "display_data"
    },
    {
     "name": "stdout",
     "output_type": "stream",
     "text": [
      "Nous avons ici l'apparition de deux coubres très régulières : \n",
      "une concave et une convexe formant deux demi-cercles parfaits.\n"
     ]
    }
   ],
   "source": [
    "# DATASET 5\n",
    "data5_v1 = [0.741180954897479, 1.8660254037844384, 1.0, 0.9594929736144974, 0.2928932188134524, 0.8412535328311812, -0.9594929736144974, 0.6548607339452851, -0.142314838273285, 1.4999999999999998, 0.0, -0.8412535328311811, 0.41541501300188644, 1.9659258262890682, 2.0, -0.4154150130018863, 0.14231483827328512, 0.9999999999999999, 0.03407417371093169, -1.0, 1.7071067811865475, 0.4999999999999999, 1.2588190451025207, 0.1339745962155613, -0.654860733945285]\n",
    "data5_v2 = [-0.4659258262890682, -3.3306690738754696e-16, 0.0, 0.28173255684142967, -0.20710678118654746, 0.5406408174555976, 0.28173255684142967, 0.7557495743542583, 0.9898214418809328, -0.3660254037844387, 0.5, 0.5406408174555978, 0.9096319953545183, 0.24118095489747904, 0.4999999999999999, 0.9096319953545184, 0.9898214418809327, -0.5, 0.24118095489747926, 1.2246467991473532e-16, -0.20710678118654757, -0.3660254037844386, -0.4659258262890683, 0.0, 0.7557495743542583]\n",
    "# Tracé du diagramme de dispersion\n",
    "plt.scatter(data5_v1, data5_v2)\n",
    "# Paramètres graphiques\n",
    "plt.title('Diagramme de dispersion du dataset 5')   # Titre du graphique\n",
    "plt.xlabel('V1')                       # Label du premier axe\n",
    "plt.ylabel('V2')                       # Label du second\n",
    "plt.axis('equal')                      # Ratio d'échelle des deux axes à 1\n",
    "plt.grid()                             # Ajout d'une grille\n",
    "# Affichage\n",
    "plt.show()\n",
    "print(\"Nous avons ici l'apparition de deux coubres très régulières : \")\n",
    "print(\"une concave et une convexe formant deux demi-cercles parfaits.\")"
   ]
  },
  {
   "cell_type": "markdown",
   "id": "23f73abf",
   "metadata": {},
   "source": [
    "    1.3 Liaison linéaire"
   ]
  },
  {
   "cell_type": "code",
   "execution_count": 8,
   "id": "5a17c25a",
   "metadata": {},
   "outputs": [],
   "source": [
    "def coefcor(x:list, y:list):\n",
    "    lenX=len(x)\n",
    "    if lenX!=len(y):\n",
    "        print(\"Function coefcor: x and y haven't the same length!\")\n",
    "        coef=None\n",
    "    else:\n",
    "        coef=0\n",
    "        meanX=mean(x)\n",
    "        meanY=mean(y)\n",
    "        for i in range(lenX):\n",
    "            coef+=(x[i]-meanX)*(y[i]-meanY)\n",
    "        coef/=lenX\n",
    "        ecartTypes=stdev(x)*stdev(y)\n",
    "        if ecartTypes==0:\n",
    "            coef=0\n",
    "        else:\n",
    "            coef/=ecartTypes\n",
    "    return coef"
   ]
  },
  {
   "cell_type": "code",
   "execution_count": 9,
   "id": "2c5aa6b4",
   "metadata": {
    "scrolled": true
   },
   "outputs": [
    {
     "name": "stdout",
     "output_type": "stream",
     "text": [
      "0.9999999999999998\n",
      "0.0\n",
      "-0.9999999999999998\n"
     ]
    }
   ],
   "source": [
    "print(coefcor([1,2,3,4],[2,4,6,8]))\n",
    "print(coefcor([1,2,3,1,2,3,1,2,3],[1,1,1,2,2,2,3,3,3]))\n",
    "print(coefcor([1,2,3,4],[3,2,1,0]))"
   ]
  },
  {
   "cell_type": "code",
   "execution_count": 10,
   "id": "8356f6dd",
   "metadata": {},
   "outputs": [
    {
     "name": "stdout",
     "output_type": "stream",
     "text": [
      "0.9500627444358793\n",
      "-0.033988116043301056\n",
      "-0.04911085107492777\n",
      "-0.3077359505677286\n",
      "-0.3877969557577057\n"
     ]
    }
   ],
   "source": [
    "print(coefcor(data1_v1,data1_v2))\n",
    "print(coefcor(data2_v1,data2_v2))\n",
    "print(coefcor(data3_v1,data3_v2))\n",
    "print(coefcor(data4_v1,data4_v2))\n",
    "print(coefcor(data5_v1,data5_v2))"
   ]
  },
  {
   "cell_type": "markdown",
   "id": "701fb4c3",
   "metadata": {},
   "source": [
    "Il n'y a donc que le dataset 1 qui est linéaire(approximativement), comme remarqué ci-dessus."
   ]
  },
  {
   "cell_type": "markdown",
   "id": "4d87596c",
   "metadata": {},
   "source": [
    "1.4 Liaison non-linéaire"
   ]
  },
  {
   "cell_type": "code",
   "execution_count": 11,
   "id": "76b99df9",
   "metadata": {},
   "outputs": [],
   "source": [
    "def coefspearman(x: list, y : list):\n",
    "    if len(x)!=len(y):\n",
    "        print(\"function coefspearman : x and y haven't the same length!\")\n",
    "        res = None\n",
    "    else:\n",
    "        res = coefcor(to_ranks(x),to_ranks(y))\n",
    "    return res"
   ]
  },
  {
   "cell_type": "code",
   "execution_count": 12,
   "id": "ad631657",
   "metadata": {
    "scrolled": true
   },
   "outputs": [
    {
     "name": "stdout",
     "output_type": "stream",
     "text": [
      "1.0\n",
      "-3.114339334501344e-17\n",
      "0\n",
      "-1.0\n"
     ]
    }
   ],
   "source": [
    "print(coefspearman([1, 2, 3, 4, 5, 6, 7],[1, 4, 8, 16, 25, 36, 49]))\n",
    "print(coefspearman([-4, -3, -2, -1, 0, 1, 2, 3, 4],[16, 9, 4, 1, 0, 1, 4, 9, 16]))\n",
    "print(coefspearman([1,2,3,4],[8,8,8,8]))\n",
    "print(coefspearman([-7, -6, -5, -4, -3, -2, -1],[49, 36, 25, 16, 9, 4, 1]))"
   ]
  },
  {
   "cell_type": "markdown",
   "id": "8058f8a5",
   "metadata": {},
   "source": [
    "2 Quantitative Vs. Qualitative"
   ]
  },
  {
   "cell_type": "code",
   "execution_count": 18,
   "id": "29de5f26",
   "metadata": {},
   "outputs": [],
   "source": [
    "def split_by(x:list, y:list):\n",
    "    lenX=len(x)\n",
    "    if lenX!=len(y):\n",
    "        print(\"split_by : x and y haven't the same length!\")\n",
    "        res=None\n",
    "    else:\n",
    "        res={}\n",
    "        for i in range(lenX):\n",
    "            key=y[i]\n",
    "            value=x[i]\n",
    "            if key not in res.keys():\n",
    "                res[key]=[value]\n",
    "            else:\n",
    "                res[key].append(value)\n",
    "    return res"
   ]
  },
  {
   "cell_type": "code",
   "execution_count": 19,
   "id": "48ce818b",
   "metadata": {
    "scrolled": true
   },
   "outputs": [
    {
     "name": "stdout",
     "output_type": "stream",
     "text": [
      "40 40\n",
      "{'A': [6.1, 3.35, 9.2, 4.46, 8.76, 2.52, 4.12, 8.01, 9.36, 6.31, 9.32, 9.89, 6.41, 4.15, 8.22, 7.0, 2.38, 7.07, 3.06, 4.0, 3.62, 2.68, 6.84, 8.25], 'B': [2.68, 9.75, 1.99, 3.59, 2.62, 7.03, 7.49, 4.69, 8.3, 6.03, 8.37, 0.82, 3.82, 4.76, 2.79, 6.1]}\n"
     ]
    }
   ],
   "source": [
    "x = [6.1, 2.68, 3.35, 9.2, 9.75, 4.46, 1.99, 8.76, 2.52, 3.59, 4.12, 2.62, 8.01, 9.36, 7.03, 6.31, 7.49, 9.32, 9.89, 4.69, 6.41, 8.3, 4.15, 8.22, 6.03, 7.0, 8.37, 2.38, 7.07, 0.82, 3.06, 3.82, 4.0, 3.62, 4.76, 2.68, 2.79, 6.84, 8.25, 6.1]\n",
    "y = ['A', 'B', 'A', 'A', 'B', 'A', 'B', 'A', 'A', 'B', 'A', 'B', 'A', 'A', 'B', 'A', 'B', 'A', 'A', 'B', 'A', 'B', 'A', 'A', 'B', 'A', 'B', 'A', 'A', 'B', 'A', 'B', 'A', 'A', 'B', 'A', 'B', 'A', 'A', 'B']\n",
    "print(len(x),len(y))\n",
    "print(split_by(x, y))"
   ]
  },
  {
   "cell_type": "code",
   "execution_count": 26,
   "id": "d374ac44",
   "metadata": {
    "scrolled": true
   },
   "outputs": [],
   "source": [
    "def describe_by(x:list, y:list):\n",
    "    dico=split_by(x,y)\n",
    "    res=\"                      \"\n",
    "    for key in dico.keys():\n",
    "        res+=key+\"    \"\n",
    "    res+=\"\\nMoyenne         : \"\n",
    "    for key in dico.keys():\n",
    "        res+=\" \"+str(round(mean(dico[key]),2))\n",
    "    res+=\"\\nMédiane         : \"\n",
    "    for key in dico.keys():\n",
    "        res+=\" \"+str(round(median(dico[key]),2))\n",
    "    res+=\"\\nÉcart-type      : \"\n",
    "    for key in dico.keys():\n",
    "        res+=\" \"+str(round(stdev(dico[key]),2))\n",
    "    res+=\"\\nCoef. de var.   : \"\n",
    "    for key in dico.keys():\n",
    "        res+=\" \"+str(round(cofvar(dico[key]),2))\n",
    "    res+=\"\\nÉtendue         : \"\n",
    "    for key in dico.keys():\n",
    "        res+=\" \"+str(round(valrange(dico[key]),2))\n",
    "    res+=\"\\nÉc. interquart. : \"\n",
    "    for key in dico.keys():\n",
    "        res+=\" \"+str(round(iquarange(dico[key]),2))\n",
    "    res+=\"\\nPrem. quartile  : \"\n",
    "    for key in dico.keys():\n",
    "        res+=\" \"+str(round(quantile(dico[key],0.25),2))\n",
    "    res+=\"\\nTrois. quartile : \"\n",
    "    for key in dico.keys():\n",
    "        res+=\" \"+str(round(quantile(dico[key],0.75),2))\n",
    "    print(res)\n",
    "    return None"
   ]
  },
  {
   "cell_type": "code",
   "execution_count": 29,
   "id": "808453d5",
   "metadata": {
    "scrolled": false
   },
   "outputs": [
    {
     "name": "stdout",
     "output_type": "stream",
     "text": [
      "                      A    B    \n",
      "Moyenne         :  6.05 5.05\n",
      "Médiane         :  6.36 4.72\n",
      "Écart-type      :  2.44 2.54\n",
      "Coef. de var.   :  0.4 0.5\n",
      "Étendue         :  7.51 8.93\n",
      "Éc. interquart. :  4.42 4.52\n",
      "Prem. quartile  :  3.81 2.74\n",
      "Trois. quartile :  8.23 7.26\n"
     ]
    }
   ],
   "source": [
    "describe_by(x,y)"
   ]
  },
  {
   "cell_type": "code",
   "execution_count": 30,
   "id": "7c6716d5",
   "metadata": {
    "scrolled": true
   },
   "outputs": [
    {
     "data": {
      "image/png": "[encoded data removed]",
      "text/plain": [
       "<Figure size 432x288 with 1 Axes>"
      ]
     },
     "metadata": {
      "needs_background": "light"
     },
     "output_type": "display_data"
    }
   ],
   "source": [
    "import seaborn as sns\n",
    "d = split_by(x, y)\n",
    "plt.figure()\n",
    "sns.boxplot(\n",
    "    data=[d[k] for k in d],\n",
    "    showmeans=True,\n",
    ")\n",
    "plt.xlabel(\"Modalité de y\")\n",
    "plt.ylabel(\"x\")\n",
    "plt.xticks(plt.xticks()[0],['A','B'])\n",
    "plt.show()"
   ]
  },
  {
   "cell_type": "code",
   "execution_count": 31,
   "id": "cf76b2dd",
   "metadata": {},
   "outputs": [
    {
     "data": {
      "image/png": "[encoded data removed]",
      "text/plain": [
       "<Figure size 432x288 with 1 Axes>"
      ]
     },
     "metadata": {
      "needs_background": "light"
     },
     "output_type": "display_data"
    }
   ],
   "source": [
    "import pandas\n",
    "plt.figure()\n",
    "sns.histplot(data=pandas.DataFrame({'x':x, 'y':y}), x='x', hue='y', bins=[0,2,4,6,8,10])\n",
    "plt.show()"
   ]
  },
  {
   "cell_type": "code",
   "execution_count": 32,
   "id": "0480df61",
   "metadata": {
    "scrolled": true
   },
   "outputs": [
    {
     "data": {
      "image/png": "[encoded data removed]",
      "text/plain": [
       "<Figure size 432x288 with 1 Axes>"
      ]
     },
     "metadata": {
      "needs_background": "light"
     },
     "output_type": "display_data"
    },
    {
     "data": {
      "image/png": "[encoded data removed]",
      "text/plain": [
       "<Figure size 432x288 with 1 Axes>"
      ]
     },
     "metadata": {
      "needs_background": "light"
     },
     "output_type": "display_data"
    }
   ],
   "source": [
    "plt.figure()\n",
    "sns.histplot(d['A'],bins=[0,2,4,6,8,10])\n",
    "plt.title('A')\n",
    "plt.show()\n",
    "plt.figure()\n",
    "plt.title('B')\n",
    "sns.histplot(d['B'],bins=[0,2,4,6,8,10])\n",
    "plt.show()"
   ]
  },
  {
   "cell_type": "markdown",
   "id": "465d5798",
   "metadata": {},
   "source": [
    "3 Qualitative Vs. Qualitative"
   ]
  },
  {
   "cell_type": "code",
   "execution_count": 37,
   "id": "9f4e6eff",
   "metadata": {},
   "outputs": [],
   "source": [
    "def contingency_table(var1, var2, freq=False):\n",
    "    dico={}\n",
    "    length=len(var1)\n",
    "    for i in range(length):\n",
    "        key=(var1[i],var2[i])\n",
    "        if key in dico.keys():\n",
    "            dico[key]+=1\n",
    "        else:\n",
    "            dico[key]=1\n",
    "    if freq:\n",
    "        for key in dico.keys():\n",
    "            dico[key]/=length\n",
    "    return dico"
   ]
  },
  {
   "cell_type": "code",
   "execution_count": 38,
   "id": "85b1b4e8",
   "metadata": {},
   "outputs": [
    {
     "name": "stdout",
     "output_type": "stream",
     "text": [
      "{('tata', 'foo'): 9, ('titi', 'foo'): 9, ('titi', 'bar'): 7, ('tata', 'bar'): 6, ('toto', 'bar'): 8, ('toto', 'foo'): 11}\n"
     ]
    }
   ],
   "source": [
    "var1 = ['tata', 'titi', 'titi', 'tata', 'toto', \n",
    "        'toto', 'toto', 'tata', 'toto', 'titi', \n",
    "        'tata', 'tata', 'tata', 'titi', 'toto', \n",
    "        'tata', 'tata', 'toto', 'titi', 'titi', \n",
    "        'toto', 'toto', 'titi', 'tata', 'tata', \n",
    "        'titi', 'titi', 'toto', 'toto', 'tata', \n",
    "        'toto', 'titi', 'toto', 'toto', 'titi', \n",
    "        'toto', 'toto', 'toto', 'tata', 'titi', \n",
    "        'tata', 'tata', 'titi', 'titi', 'toto', \n",
    "        'toto', 'titi', 'titi', 'toto', 'tata']\n",
    "\n",
    "var2 = ['foo', 'foo', 'bar', 'bar', 'bar', 'foo', 'bar', 'foo', 'foo', 'bar', \n",
    "        'foo', 'foo', 'foo', 'foo', 'bar', 'bar', 'foo', 'foo', 'bar', 'foo', \n",
    "        'bar', 'foo', 'foo', 'foo', 'foo', 'foo', 'bar', 'foo', 'foo', 'bar', \n",
    "        'foo', 'foo', 'foo', 'bar', 'bar', 'foo', 'foo', 'bar', 'bar', 'foo', \n",
    "        'bar', 'foo', 'foo', 'foo', 'bar', 'bar', 'bar', 'bar', 'foo', 'bar']\n",
    "\n",
    "print(contingency_table(var1,var2))"
   ]
  },
  {
   "cell_type": "code",
   "execution_count": 39,
   "id": "99eb7841",
   "metadata": {},
   "outputs": [
    {
     "name": "stdout",
     "output_type": "stream",
     "text": [
      "+------+-----+-----+\n",
      "|      | bar | foo |\n",
      "+------+-----+-----+\n",
      "| toto |   8 |  11 |\n",
      "+------+-----+-----+\n",
      "| tata |   6 |   9 |\n",
      "+------+-----+-----+\n",
      "| titi |   7 |   9 |\n",
      "+------+-----+-----+\n",
      "\n"
     ]
    }
   ],
   "source": [
    "def pprint_contable(ct):\n",
    "    M1 = list(set([k[0] for k in ct.keys()]))\n",
    "    M2 = list(set([k[1] for k in ct.keys()]))\n",
    "    maxnm1 = max([len(str(m)) for m in M1])\n",
    "    maxnm2 = max([len(str(m)) for m in M2])\n",
    "    maxnval = max([len(str(v)) for v in ct.values()])\n",
    "    txt  = '+' + '-'*(maxnm1+2) + '+' + ('-'*(maxnm2+2) + '+')*len(M2) + '\\n'\n",
    "    txt += '|' + ' '*(maxnm1+2) + '|' + ''.join([\"\"+str(m2).rjust(maxnm2+1)+\"\"+' |' for m2 in M2]) + '\\n'\n",
    "    txt += '+' + '-'*(maxnm1+2) + '+' + ('-'*(maxnm2+2) + '+')*len(M2) + '\\n'\n",
    "    for m1 in M1:\n",
    "        txt += '| ' +\"\"+ str(m1).ljust(maxnm1+1) +\"\"+ '|' + ''.join([str(ct[(m1,m2)]).rjust(maxnm2+1)+' |' for m2 in M2]) + '\\n'\n",
    "        txt += '+' + '-'*(maxnm1+2) + '+' + ('-'*(maxnm2+2) + '+')*len(M2) + '\\n'\n",
    "    print(txt)\n",
    "    return None\n",
    "\n",
    "pprint_contable(contingency_table(var1,var2))"
   ]
  },
  {
   "cell_type": "code",
   "execution_count": 40,
   "id": "d73f46fe",
   "metadata": {},
   "outputs": [
    {
     "name": "stdout",
     "output_type": "stream",
     "text": [
      "{('tata', 'foo'): 0.18, ('titi', 'foo'): 0.18, ('titi', 'bar'): 0.14, ('tata', 'bar'): 0.12, ('toto', 'bar'): 0.16, ('toto', 'foo'): 0.22}\n",
      "+------+-----+-----+\n",
      "|      | bar | foo |\n",
      "+------+-----+-----+\n",
      "| toto |0.16 |0.22 |\n",
      "+------+-----+-----+\n",
      "| tata |0.12 |0.18 |\n",
      "+------+-----+-----+\n",
      "| titi |0.14 |0.18 |\n",
      "+------+-----+-----+\n",
      "\n"
     ]
    }
   ],
   "source": [
    "print(contingency_table(var1, var2, freq=True))\n",
    "pprint_contable(contingency_table(var1, var2, freq=True))"
   ]
  },
  {
   "cell_type": "code",
   "execution_count": 44,
   "id": "2cc4569f",
   "metadata": {},
   "outputs": [],
   "source": [
    "def margin(dico:dict,m=0):\n",
    "    if m==0:\n",
    "        res=0\n",
    "        for key in dico.keys():\n",
    "            res+=dico[key]\n",
    "    elif m==1:\n",
    "        res={}\n",
    "        for key in dico.keys():\n",
    "            (imp,r)=key\n",
    "            if imp in res:\n",
    "                res[imp]+=dico[key]\n",
    "            else:\n",
    "                res[imp]=dico[key]\n",
    "    elif m==2:\n",
    "        res={}\n",
    "        for key in dico.keys():\n",
    "            (r,imp)=key\n",
    "            if imp in res:\n",
    "                res[imp]+=dico[key]\n",
    "            else:\n",
    "                res[imp]=dico[key]\n",
    "    return res"
   ]
  },
  {
   "cell_type": "code",
   "execution_count": 46,
   "id": "09dfdb34",
   "metadata": {
    "scrolled": false
   },
   "outputs": [
    {
     "name": "stdout",
     "output_type": "stream",
     "text": [
      "50\n",
      "{'tata': 15, 'titi': 16, 'toto': 19}\n",
      "{'foo': 29, 'bar': 21}\n",
      "1.0\n",
      "{'tata': 0.3, 'titi': 0.32, 'toto': 0.38}\n",
      "{'foo': 0.58, 'bar': 0.42000000000000004}\n"
     ]
    }
   ],
   "source": [
    "print(margin(contingency_table(var1, var2), m=0))\n",
    "print(margin(contingency_table(var1, var2), m=1))\n",
    "print(margin(contingency_table(var1, var2), m=2))\n",
    "print(margin(contingency_table(var1, var2, freq = True), m=0))\n",
    "print(margin(contingency_table(var1, var2, freq = True), m=1))\n",
    "print(margin(contingency_table(var1, var2, freq = True), m=2))"
   ]
  },
  {
   "cell_type": "code",
   "execution_count": 47,
   "id": "eb8f703c",
   "metadata": {},
   "outputs": [
    {
     "name": "stdout",
     "output_type": "stream",
     "text": [
      "+-------+-------+-------+\n",
      "|       |\u001b[1m\u001b[92m   bar\u001b[0m |\u001b[1m\u001b[92m   foo\u001b[0m |\n",
      "+-------+-------+-------+\n",
      "| \u001b[1m\u001b[94mtoto  \u001b[0m|     8 |    11 |\n",
      "+-------+-------+-------+\n",
      "| \u001b[1m\u001b[94mtata  \u001b[0m|     6 |     9 |\n",
      "+-------+-------+-------+\n",
      "| \u001b[1m\u001b[94mtiti  \u001b[0m|     7 |     9 |\n",
      "+-------+-------+-------+\n",
      "\n",
      "+-------+-------+-------+-------+\n",
      "|       |\u001b[1m\u001b[92m   bar\u001b[0m |\u001b[1m\u001b[92m   foo\u001b[0m |\u001b[1m\u001b[94m\u001b[7m TOTAL\u001b[0m |\n",
      "+-------+-------+-------+-------+\n",
      "| \u001b[1m\u001b[94mtoto  \u001b[0m|     8 |    11 |\u001b[1m\u001b[94m\u001b[7m    19\u001b[0m |\n",
      "+-------+-------+-------+-------+\n",
      "| \u001b[1m\u001b[94mtata  \u001b[0m|     6 |     9 |\u001b[1m\u001b[94m\u001b[7m    15\u001b[0m |\n",
      "+-------+-------+-------+-------+\n",
      "| \u001b[1m\u001b[94mtiti  \u001b[0m|     7 |     9 |\u001b[1m\u001b[94m\u001b[7m    16\u001b[0m |\n",
      "+-------+-------+-------+-------+\n",
      "| \u001b[1m\u001b[92m\u001b[7mTOTAL \u001b[0m|\u001b[1m\u001b[92m\u001b[7m    21\u001b[0m |\u001b[1m\u001b[92m\u001b[7m    29\u001b[0m |\u001b[1m\u001b[7m    50\u001b[0m |\n",
      "+-------+-------+-------+-------+\n",
      "\n",
      "+-------+-------+-------+-------+\n",
      "|       |\u001b[1m\u001b[92m   bar\u001b[0m |\u001b[1m\u001b[92m   foo\u001b[0m |\u001b[1m\u001b[94m\u001b[7m TOTAL\u001b[0m |\n",
      "+-------+-------+-------+-------+\n",
      "| \u001b[1m\u001b[94mtoto  \u001b[0m|  0.16 |  0.22 |\u001b[1m\u001b[94m\u001b[7m  0.38\u001b[0m |\n",
      "+-------+-------+-------+-------+\n",
      "| \u001b[1m\u001b[94mtata  \u001b[0m|  0.12 |  0.18 |\u001b[1m\u001b[94m\u001b[7m   0.3\u001b[0m |\n",
      "+-------+-------+-------+-------+\n",
      "| \u001b[1m\u001b[94mtiti  \u001b[0m|  0.14 |  0.18 |\u001b[1m\u001b[94m\u001b[7m  0.32\u001b[0m |\n",
      "+-------+-------+-------+-------+\n",
      "| \u001b[1m\u001b[92m\u001b[7mTOTAL \u001b[0m|\u001b[1m\u001b[92m\u001b[7m  0.42\u001b[0m |\u001b[1m\u001b[92m\u001b[7m  0.58\u001b[0m |\u001b[1m\u001b[7m   1.0\u001b[0m |\n",
      "+-------+-------+-------+-------+\n",
      "\n"
     ]
    }
   ],
   "source": [
    "def pprint_contable(cont, margin1=None, margin2=None, dec=None):\n",
    "    if margin1 is not None:\n",
    "        marg1 = margin1.copy()\n",
    "    else:\n",
    "        marg1 = None\n",
    "    if margin2 is not None:\n",
    "        marg2 = margin2.copy()\n",
    "    else:\n",
    "        marg2 = None\n",
    "    ct = cont.copy()\n",
    "    if dec is not None:\n",
    "        for k in ct:\n",
    "            ct[k] = round(ct[k],dec)\n",
    "        if marg1 is not None:\n",
    "            for k in marg1:\n",
    "                marg1[k] = round(marg1[k],dec)\n",
    "        if marg2 is not None:\n",
    "            for k in marg2:\n",
    "                marg2[k] = round(marg2[k],dec)\n",
    "    M1 = list(set([k[0] for k in ct.keys()]))\n",
    "    M2 = list(set([k[1] for k in ct.keys()]))\n",
    "    maxnm1 = max([len(str(m)) for m in M1])\n",
    "    maxnm2 = max([len(str(m)) for m in M2])\n",
    "    maxnval = max([len(str(v)) for v in ct.values()])\n",
    "    if marg1 is not None:\n",
    "        maxnval = max([maxnval,max([len(str(v)) for v in marg1.values()])])\n",
    "    if marg2 is not None:\n",
    "        maxnval = max([maxnval,max([len(str(v)) for v in marg2.values()])])        \n",
    "    maxnm2 = max([maxnm2, maxnval, 5])\n",
    "    maxnm1 = max([maxnm1, 5])\n",
    "    txt  = '+' + '-'*(maxnm1+2) + '+' + ('-'*(maxnm2+2) + '+')*len(M2) + ('' if marg1 is None else ('-'*(maxnm2+2) + '+') ) +'\\n'\n",
    "    txt += '|' + ' '*(maxnm1+2) + '|' + ''.join([\"\\u001b[1m\\u001b[92m\"+str(m2).rjust(maxnm2+1)+\"\\u001b[0m\"+' |' for m2 in M2]) +  ('' if marg1 is None else \"\\u001b[1m\\u001b[94m\\u001b[7m\"+str('TOTAL').rjust(maxnm2+1)+\"\\u001b[0m\"+' |')+ '\\n'\n",
    "    txt += '+' + '-'*(maxnm1+2) + '+' + ('-'*(maxnm2+2) + '+')*len(M2) + ('' if marg1 is None else ('-'*(maxnm2+2) + '+') ) + '\\n'\n",
    "    for m1 in M1:\n",
    "        txt += '| ' + \"\\u001b[1m\\u001b[94m\"+str(m1).ljust(maxnm1+1)+\"\\u001b[0m\" + '|' + ''.join([str(ct[(m1,m2)]).rjust(maxnm2+1) + ' |' for m2 in M2]) +  ('\\n' if marg1 is None else (\"\\u001b[1m\\u001b[94m\\u001b[7m\"+str(marg1[m1]).rjust(maxnm2+1) +\"\\u001b[0m\"+ ' |' + '\\n'))\n",
    "        txt += '+' + '-'*(maxnm1+2) + '+' + ('-'*(maxnm2+2) + '+')*len(M2) + ('' if marg1 is None else ('-'*(maxnm2+2) + '+') ) + '\\n'\n",
    "    if marg2 is not None:\n",
    "        txt += '| ' + \"\\u001b[1m\\u001b[92m\\u001b[7m\"+'TOTAL'.ljust(maxnm1+1) +\"\\u001b[0m\"+ '|' + ''.join([\"\\u001b[1m\\u001b[92m\\u001b[7m\"+str(marg2[m2]).rjust(maxnm2+1)+\"\\u001b[0m\"+' |' for m2 in M2]) + \"\\u001b[1m\\u001b[7m\"+str(sum(marg2.values())).rjust(maxnm2+1)+\"\\u001b[0m\"+' |' + '\\n'\n",
    "        txt += '+' + '-'*(maxnm1+2) + '+' + ('-'*(maxnm2+2) + '+')*len(M2) + ('' if marg1 is None else ('-'*(maxnm2+2) + '+') ) + '\\n'\n",
    "    print(txt)\n",
    "    return None\n",
    "\n",
    "pprint_contable(contingency_table(var1, var2))\n",
    "\n",
    "pprint_contable(contingency_table(var1, var2),\n",
    "                margin(contingency_table(var1, var2),1),\n",
    "                margin(contingency_table(var1, var2),2))\n",
    "\n",
    "pprint_contable(contingency_table(var1, var2, freq=True),\n",
    "                margin(contingency_table(var1, var2, freq=True),1),\n",
    "                margin(contingency_table(var1, var2, freq=True),2), dec=2)"
   ]
  },
  {
   "cell_type": "markdown",
   "id": "159130bc",
   "metadata": {},
   "source": [
    "3.1 Coefficients d’association"
   ]
  },
  {
   "cell_type": "code",
   "execution_count": 49,
   "id": "00800896",
   "metadata": {},
   "outputs": [],
   "source": [
    "def dchi2(cont):\n",
    "    marg1 = margin(cont, 1)\n",
    "    marg2 = margin(cont, 2)\n",
    "    N = margin(cont, 0)\n",
    "    d2 = 0\n",
    "    for m1 in marg1.keys():\n",
    "        for m2 in marg2.keys():\n",
    "            n_the = (marg1[m1] * marg2[m2]) / N\n",
    "            n_obs = cont[(m1,m2)]\n",
    "            d2 += ((n_obs - n_the)**2) / n_the\n",
    "    return d2"
   ]
  },
  {
   "cell_type": "code",
   "execution_count": 50,
   "id": "a976110d",
   "metadata": {
    "scrolled": true
   },
   "outputs": [
    {
     "name": "stdout",
     "output_type": "stream",
     "text": [
      "0.04483190735459339\n"
     ]
    }
   ],
   "source": [
    "print(dchi2(contingency_table(var1, var2)))"
   ]
  },
  {
   "cell_type": "code",
   "execution_count": 58,
   "id": "0210b820",
   "metadata": {},
   "outputs": [],
   "source": [
    "def v_cramer(var1,var2):\n",
    "    n=len(var1)\n",
    "    X1=[]\n",
    "    for elt in var1:\n",
    "        if elt not in X1:\n",
    "            X1.append(elt)\n",
    "    X2=[]\n",
    "    for elt in var2:\n",
    "        if elt not in X2:\n",
    "            X2.append(elt)\n",
    "    l=len(X1)\n",
    "    c=len(X2)\n",
    "    qui2=dchi2(contingency_table(var1, var2))\n",
    "    res2=qui2/(n*(min(l,c)-1))\n",
    "    return sqrt(res2)\n",
    "    "
   ]
  },
  {
   "cell_type": "code",
   "execution_count": 59,
   "id": "d3c6edc5",
   "metadata": {
    "scrolled": false
   },
   "outputs": [
    {
     "name": "stdout",
     "output_type": "stream",
     "text": [
      "0.02994391669591451\n"
     ]
    }
   ],
   "source": [
    "print(v_cramer(var1, var2))"
   ]
  },
  {
   "cell_type": "markdown",
   "id": "dd22e211",
   "metadata": {},
   "source": [
    "4. Problèmes et mise en pratique"
   ]
  },
  {
   "cell_type": "code",
   "execution_count": 60,
   "id": "77462ad8",
   "metadata": {},
   "outputs": [],
   "source": [
    "data = [('Fille', 'A', 'Echec'),     ('Fille', 'A',  'Echec'),     ('Garcon', 'A', 'Echec'), \n",
    "        ('Fille', 'A', 'Echec'),     ('Fille', 'A',  'Echec'),     ('Fille', 'B', 'Reussite'), \n",
    "        ('Garcon', 'B', 'Reussite'), ('Fille', 'B',  'Reussite'),  ('Fille', 'B', 'Reussite'), \n",
    "        ('Garcon', 'B', 'Reussite'), ('Fille', 'A',  'Reussite'),  ('Fille', 'A', 'Echec'), \n",
    "        ('Fille', 'A', 'Echec'),     ('Fille', 'A',  'Echec'),     ('Fille', 'A', 'Echec'), \n",
    "        ('Fille', 'B', 'Reussite'),  ('Garcon', 'B', 'Reussite'),  ('Garcon', 'A', 'Echec'), \n",
    "        ('Garcon', 'B', 'Reussite'), ('Garcon', 'B', 'Reussite'),  ('Garcon', 'B', 'Echec'), \n",
    "        ('Garcon', 'A', 'Echec'),    ('Garcon', 'B', 'Reussite'),  ('Garcon', 'B', 'Reussite'), \n",
    "        ('Fille', 'B', 'Reussite'),  ('Garcon', 'A', 'Echec'),     ('Garcon', 'B', 'Reussite'), \n",
    "        ('Garcon', 'A', 'Echec'),    ('Garcon', 'B', 'Reussite'),  ('Fille', 'A', 'Echec')]"
   ]
  },
  {
   "cell_type": "code",
   "execution_count": null,
   "id": "aed0a0b0",
   "metadata": {},
   "outputs": [],
   "source": []
  }
 ],
 "metadata": {
  "kernelspec": {
   "display_name": "Python 3 (ipykernel)",
   "language": "python",
   "name": "python3"
  },
  "language_info": {
   "codemirror_mode": {
    "name": "ipython",
    "version": 3
   },
   "file_extension": ".py",
   "mimetype": "text/x-python",
   "name": "python",
   "nbconvert_exporter": "python",
   "pygments_lexer": "ipython3",
   "version": "3.8.10"
  }
 },
 "nbformat": 4,
 "nbformat_minor": 5
}
